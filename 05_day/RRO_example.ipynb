{
  "cells": [
    {
      "cell_type": "markdown",
      "metadata": {
        "id": "pTOHll0aqUmx"
      },
      "source": [
        "## Android 14 기반 RRO(런타임 리소스 오버레이) 실습 예제\n",
        "\n",
        "Android 14에서 런타임 리소스 오버레이(Runtime Resource Overlay, RRO)를 사용하여 앱의 리소스를 동적으로 변경하는 방법을 실습 예제를 통해 단계별로 안내합니다. 이 예제에서는 간단한 앱을 만들고, RRO를 통해 이 앱의 문자열과 색상 리소스를 변경해보겠습니다.\n",
        "\n",
        "---\n",
        "\n",
        "### 1단계: 실습 준비\n",
        "\n",
        "먼저 Android 14(API 수준 34)를 지원하는 최신 버전의 Android 스튜디오를 준비해야 합니다.\n",
        "\n",
        "---\n",
        "\n",
        "### 2단계: 타겟 앱 만들기\n",
        "RRO를 적용할 대상이 되는 간단한 앱을 만듭니다.\n",
        "\n",
        "#### 1. 새 프로젝트 생성\n",
        "\n",
        "- Android 스튜디오에서 File > New > New Project...를 선택합니다.\n",
        "\n",
        "- Empty Views Activity 템플릿을 선택하고 Next를 클릭합니다.\n",
        "\n",
        "- 애플리케이션 이름을 RROTarget으로, 패키지 이름을 com.example.rrotarget으로 지정합니다.\n",
        "\n",
        "- Language : Java 선택\n",
        "\n",
        "- Minimum SDK를 API 34: Android 14로 설정하고 Finish를 클릭합니다.\n",
        "\n",
        "#### 2. 레이아웃 및 리소스 정의\n",
        "\n",
        "Android 선택\n",
        "- app/res/layout/activity_main.xml 파일을 열고 ![image.png](data:image/png;base64,iVBORw0KGgoAAAANSUhEUgAAACcAAAAmCAYAAABH/4KQAAAAAXNSR0IArs4c6QAAAARnQU1BAACxjwv8YQUAAAAJcEhZcwAADsMAAA7DAcdvqGQAAAFJSURBVFhH7ZjNaoNAEIDHjYoiqNSeW+gTpIe210Cfo7SP1pKnaXtoHqTWHxBFzW6zOjRECFhBnYT9Ls6Own7s7Kyw2tX1jQCi/MmZpgme54FlWWDoevNyTKq6hqIoIEkSKMsSs4c0cq7rwmUQYGp6vsMQ0jTF0R7mOM6sYhI5v/TowoLgAsN5kR6apuGohemL8fdXH6SHbds4amH4JIFhGBi1kJJjrFNWfJKEtJy2Wj32+kP4vg939w+7pV9gph+cb+Hz4x3iOMbMcaI4gijaf9dbbrm8hafnl127/2+xheCwfnuFzeYLM8cZLDcFXTnVEEM5jz1Hulun4KQa4jzKqg7hU9pz6hBWh/DYqIYYCueHRSQlV1UVRi2s3tYYzov0yPMcRy0sDH8wnBfpIUSnrFmWNbc8cyLnlx5d6N/PYUwOdc4NhbAcwC+qGOl6HIUUBgAAAABJRU5ErkJggg==) 선택 후 TextView의 ID를 지정하고 텍스트를 설정합니다."
      ]
    },
    {
      "cell_type": "markdown",
      "metadata": {
        "id": "vNFpoq_Srl0E"
      },
      "source": [
        "``` xml\n",
        "<?xml version=\"1.0\" encoding=\"utf-8\"?>\n",
        "<androidx.constraintlayout.widget.ConstraintLayout xmlns:android=\"http://schemas.android.com/apk/res/android\"\n",
        "    xmlns:app=\"http://schemas.android.com/apk/res-auto\"\n",
        "    xmlns:tools=\"http://schemas.android.com/tools\"\n",
        "    android:id=\"@+id/main\"\n",
        "    android:layout_width=\"match_parent\"\n",
        "    android:layout_height=\"match_parent\"\n",
        "    tools:context=\".MainActivity\">\n",
        "\n",
        "    <TextView\n",
        "        android:id=\"@+id/hello_text\"\n",
        "        android:layout_width=\"wrap_content\"\n",
        "        android:layout_height=\"wrap_content\"\n",
        "        android:text=\"@string/hello_world\"\n",
        "        app:layout_constraintBottom_toBottomOf=\"parent\"\n",
        "        app:layout_constraintEnd_toEndOf=\"parent\"\n",
        "        app:layout_constraintStart_toStartOf=\"parent\"\n",
        "        app:layout_constraintTop_toTopOf=\"parent\" />\n",
        "\n",
        "</androidx.constraintlayout.widget.ConstraintLayout>\n",
        "\n",
        "```"
      ]
    },
    {
      "cell_type": "markdown",
      "metadata": {
        "id": "3yc0FG0-tlnK"
      },
      "source": [
        "- app/res/values/strings.xml 파일에 문자열 리소스를 정의합니다."
      ]
    },
    {
      "cell_type": "markdown",
      "metadata": {
        "id": "WvfuE8ksttde"
      },
      "source": [
        "```xml\n",
        "<resources>\n",
        "    <string name=\"app_name\">RROTarget</string>\n",
        "    <string name=\"hello_world\">how are you</string>\n",
        "</resources>\n",
        "```"
      ]
    },
    {
      "cell_type": "markdown",
      "metadata": {
        "id": "DNaHdGbBt4xC"
      },
      "source": [
        "- app/res/values/colors.xml 파일에 색상 리소스를 정의합니다."
      ]
    },
    {
      "cell_type": "markdown",
      "metadata": {
        "id": "xiYIwIGkt6tE"
      },
      "source": [
        "```xml\n",
        "<?xml version=\"1.0\" encoding=\"utf-8\"?>\n",
        "<resources>\n",
        "    <color name=\"black\">#FF000000</color>\n",
        "    <color name=\"white\">#FFFFFFFF</color>\n",
        "    <color name=\"background_color\">#FFFFFF</color>\n",
        "    <color name=\"text_color\">#000000</color>\n",
        "</resources>\n",
        "```"
      ]
    },
    {
      "cell_type": "markdown",
      "metadata": {
        "id": "j0JqckGouEYb"
      },
      "source": [
        "#### 3. 오버레이 가능한 리소스 지정 (중요)\n",
        "\n",
        "- RRO가 리소스를 변경하기 위해서는 타겟 앱에서 해당 리소스가 오버레이 가능하다고 명시해야 합니다.\n",
        "\n",
        "- app/res/values/ 디렉터리에 overlayable.xml 파일을 새로 만듭니다."
      ]
    },
    {
      "cell_type": "markdown",
      "metadata": {
        "id": "Uc33-FEFuQ2l"
      },
      "source": [
        "```xml\n",
        "<?xml version=\"1.0\" encoding=\"utf-8\"?>\n",
        "<resources>\n",
        "    <overlayable name=\"RROTargetTheme\">\n",
        "        <policy type=\"public\">\n",
        "            <item type=\"string\" name=\"hello_world\" />\n",
        "        </policy>\n",
        "    </overlayable>\n",
        "</resources>\n",
        "```"
      ]
    },
    {
      "cell_type": "markdown",
      "metadata": {
        "id": "bs3urhKWuOMn"
      },
      "source": [
        "- <overlayable> 태그의 name은 오버레이를 식별하는 데 사용됩니다.\n",
        "\n",
        "- <policy type=\"public\">: RRO가 접근할 수 있도록 공개 정책을 설정합니다.\n",
        "\n",
        "- <item>: 오버레이를 허용할 리소스의 type(종류)과 name(이름)을 지정합니다.\n"
      ]
    },
    {
      "cell_type": "markdown",
      "metadata": {
        "id": "isBjeABou3Tl"
      },
      "source": [
        "#### 4. 타겟 앱 빌드\n",
        "- Android 스튜디오에서 Build > Generate App Bundles or APKs / Generate APKs를 선택하여 RROTarget 패키지의 APK 파일을 생성합니다.\n",
        "\n",
        "---"
      ]
    },
    {
      "cell_type": "markdown",
      "metadata": {
        "id": "9IkFTh5_v---"
      },
      "source": [
        "### 3단계: RRO 패키지 만들기\n",
        "이제 타겟 앱의 리소스를 덮어쓸 RRO 패키지를 만듭니다.\n",
        "\n",
        "#### 1. 새 프로젝트 생성\n",
        "\n",
        "- Android 스튜디오에서 File > New > New Project...를 선택합니다.\n",
        "\n",
        "- Empty Views Activity 템플릿을 선택하고 Next를 클릭합니다.\n",
        "\n",
        "- 애플리케이션 이름을 RROTarget으로, 패키지 이름을 com.example.rrooverlay으로 지정합니다.\n",
        "\n",
        "- Language : Java 선택\n",
        "\n",
        "- Minimum SDK를 API 34: Android 14로 설정하고 Finish를 클릭합니다.\n",
        "\n",
        "#### 2. AndroidManifest.xml 수정\n",
        "\n",
        "RRO 패키지는 자바 코드가 필요 없으며, application 태그 내에 <overlay> 태그를 추가하는 것이 핵심입니다.\n",
        "\n",
        "Android 선택\n",
        "app/manifests/AndroidManifest.xml 파일을 다음과 같이 수정합니다."
      ]
    },
    {
      "cell_type": "markdown",
      "metadata": {
        "id": "0pB7tFKdws28"
      },
      "source": [
        "```xml\n",
        "<?xml version=\"1.0\" encoding=\"utf-8\"?>\n",
        "<manifest xmlns:android=\"http://schemas.android.com/apk/res/android\"\n",
        "    package=\"com.example.rrooverlay\">\n",
        "\n",
        "    <application\n",
        "        android:hasCode=\"false\"\n",
        "        android:label=\"RRO Overlay\">\n",
        "    </application>\n",
        "\n",
        "    <overlay\n",
        "        android:targetPackage=\"com.example.rrotarget\"\n",
        "        android:targetName=\"RROTargetTheme\"\n",
        "        android:priority=\"1\"\n",
        "        android:isStatic=\"false\" />\n",
        "</manifest>\n",
        "```"
      ]
    },
    {
      "cell_type": "markdown",
      "metadata": {
        "id": "0OFVsozfxpOl"
      },
      "source": [
        "- android:hasCode=\"false\": 이 패키지에 실행 가능한 코드가 없음을 나타냅니다.\n",
        "\n",
        "- <overlay>: 이 패키지가 RRO임을 명시합니다.\n",
        "\n",
        "    - android:targetPackage: 오버레이할 타겟 앱의 패키지 이름(com.example.rrotarget)을 정확히 입력합니다.\n",
        "\n",
        "    - android:targetName: 타겟 앱의 overlayable.xml에 정의한 <overlayable>의 name(RROTargetTheme)을 입력합니다.\n",
        "\n",
        "    - android:isStatic=\"false\": 런타임에 동적으로 활성화/비활성화할 수 있는 RRO임을 의미합니다.\n",
        "\n",
        "#### 3. 변경할 리소스 정의\n",
        "\n",
        "- RRO 패키지에서 타겟 앱의 리소스와 동일한 이름으로 새로운 값을 정의합니다.\n",
        "\n",
        "- app/res/values/strings.xml 파일의 내용을 변경합니다."
      ]
    },
    {
      "cell_type": "markdown",
      "metadata": {
        "id": "2JM_Q4yox4jJ"
      },
      "source": [
        "```xml\n",
        "<resources>\n",
        "    <string name=\"app_name\">RROOverlay</string>\n",
        "    <string name=\"hello_world\">Hello, RRO! 🚀</string>\n",
        "</resources>\n",
        "```"
      ]
    },
    {
      "cell_type": "markdown",
      "metadata": {
        "id": "ohQVy0-wyFM-"
      },
      "source": [
        "- app/res/values/colors.xml 파일의 내용을 변경합니다."
      ]
    },
    {
      "cell_type": "markdown",
      "metadata": {
        "id": "6hN9J2umyG8A"
      },
      "source": [
        "```xml\n",
        "<?xml version=\"1.0\" encoding=\"utf-8\"?>\n",
        "<resources>\n",
        "    <color name=\"black\">#FF000000</color>\n",
        "    <color name=\"white\">#FFFFFFFF</color>\n",
        "    <color name=\"background_color\">#FFFFFF</color>\n",
        "    <color name=\"text_color\">#000000</color>\n",
        "</resources>\n",
        "```"
      ]
    },
    {
      "cell_type": "markdown",
      "metadata": {
        "id": "9ynO4bekyTFD"
      },
      "source": [
        "#### 4. RRO 패키지 빌드\n",
        "\n",
        "- Android 스튜디오에서 Build > Generate App Bundles or APKs / Generate APKs를 선택하여 RROOverlay 패키지의 APK 파일을 생성합니다.\n",
        "\n",
        "---"
      ]
    },
    {
      "cell_type": "markdown",
      "metadata": {
        "id": "_X0Tym8DymQg"
      },
      "source": [
        "### 4단계: RRO 설치 및 활성화\n",
        "이제 ADB(Android Debug Bridge)를 사용하여 RRO를 설치하고 활성화합니다.\n",
        "\n",
        "#### 1. RROTarget APK 설치\n",
        "\n",
        "생성된 APK 파일(app-debug.apk)의 경로를 확인합니다. (보통 AndroidStudioProjects\\RROTarget\\app\\build\\outputs\\apk\\debug 경로에 있습니다)\n",
        "\n",
        "해당 디렉토리에 있는 app-debug.apk 파일을 작업 디렉토리의 rrotarget.apk 로 복사한다.\n",
        "\n",
        "터미널이나 명령 프롬프트에서 다음 명령어로 APK를 설치합니다.\n",
        "\n",
        "``` shell\n",
        "adb install rrotarget.apk\n",
        "```\n",
        "\n",
        "#### 2. RROOverlay APK 설치\n",
        "\n",
        "생성된 APK 파일(app-debug.apk)의 경로를 확인합니다. (보통 AndroidStudioProjects\\RROOverlay\\app\\build\\outputs\\apk\\debug 경로에 있습니다)\n",
        "\n",
        "해당 디렉토리에 있는 app-debug.apk 파일을 작업 디렉토리의 rrooverlay.apk 로 복사한다.\n",
        "\n",
        "터미널이나 명령 프롬프트에서 다음 명령어로 APK를 설치합니다.\n",
        "\n",
        "``` shell\n",
        "adb install rrooverlay.apk\n",
        "```\n",
        "\n",
        "#### 3. RRO 활성화\n",
        "\n",
        "설치 후, RRO를 활성화해야 변경 사항이 적용됩니다.\n",
        "\n",
        "``` shell\n",
        "adb shell 접속 후\n",
        "emulator_car64_x86_64:/ cmd overlay enable com.example.rrooverlay\n",
        "```\n",
        "\n",
        "#### 4. RRO 상태 모니터링\n",
        "\n",
        "``` shell\n",
        "emulator_car64_x86_64:/ cmd overlay list | grep com.example.rrooverlay\n",
        "emulator_car64_x86_64:/ cmd overlay dump com.example.rrooverlay\n",
        "```\n",
        "\n",
        "#### 5. 변경 사항 확인\n",
        "\n",
        "이제 RROTarget 앱을 다시 실행하거나, 이미 실행 중이었다면 앱을 재시작합니다.\n",
        "\n",
        "문구가 \"Hello, RRO! 🚀\"로 변경된 것을 확인할 수 있습니다.\n",
        "\n",
        "### 5단계: RRO 비활성화 및 제거\n",
        "RRO를 비활성화하거나 시스템에서 제거할 수도 있습니다.\n",
        "\n",
        "- RRO 비활성화:\n",
        "``` shell\n",
        "emulator_car64_x86_64:/ cmd overlay disable com.example.rrooverlay\n",
        "```\n",
        "\n",
        "- RRO 패키지 제거:\n",
        "``` shell\n",
        "emulator_car64_x86_64:/ exit\n",
        "adb uninstall com.example.rrooverlay\n",
        "```"
      ]
    },
    {
      "cell_type": "markdown",
      "metadata": {
        "id": "24cKLxgo4v-7"
      },
      "source": [
        "---\n",
        "\n",
        "## 드로어블(Drawable) 리소스를 오버레이하는 두 번째 실습 예제를 안내해 드리겠습니다.\n",
        "\n",
        "이전 예제에서 만든 RROTarget 앱에 아이콘과 배경 이미지를 추가하고, 새로운 RRO 패키지를 통해 이 이미지들을 변경해보겠습니다.\n",
        "\n",
        "---\n",
        "\n",
        "### 1단계: 기존 RROTarget 앱 수정\n",
        "먼저, 이전 예제에서 만들었던 RROTarget 앱의 코드를 수정하여 ImageView를 추가하고 배경을 색상 대신 드로어블로 설정합니다.\n",
        "\n",
        "#### 1. 배경 드로어블 만들기\n",
        "\n",
        "RROTarget 프로젝트의 app/res/drawable/ 디렉터리에 background_shape.xml 파일을 새로 만듭니다."
      ]
    },
    {
      "cell_type": "markdown",
      "metadata": {
        "id": "ILxOpvko46nH"
      },
      "source": [
        "```xml\n",
        "<?xml version=\"1.0\" encoding=\"utf-8\"?>\n",
        "<shape xmlns:android=\"http://schemas.android.com/apk/res/android\"\n",
        "    android:shape=\"rectangle\">\n",
        "    <solid android:color=\"#E0E0E0\" /> <corners android:radius=\"16dp\" />\n",
        "    <stroke android:width=\"4dp\" android:color=\"#CCCCCC\" />\n",
        "</shape>\n",
        "```"
      ]
    },
    {
      "cell_type": "markdown",
      "metadata": {
        "id": "vY5_p_YA5FKe"
      },
      "source": [
        "2. 레이아웃(activity_main.xml) 수정\n",
        "\n",
        "ImageView를 추가하고, RelativeLayout의 배경을 방금 만든 드로어블로 변경합니다."
      ]
    },
    {
      "cell_type": "markdown",
      "metadata": {
        "id": "_PJPbN8G5GQZ"
      },
      "source": [
        "```xml\n",
        "<?xml version=\"1.0\" encoding=\"utf-8\"?>\n",
        "<RelativeLayout xmlns:android=\"http://schemas.android.com/apk/res/android\"\n",
        "    xmlns:tools=\"http://schemas.android.com/tools\"\n",
        "    android:id=\"@+id/main_layout\"\n",
        "    android:layout_width=\"match_parent\"\n",
        "    android:layout_height=\"match_parent\"\n",
        "    android:background=\"@drawable/background_shape\" android:gravity=\"center\"\n",
        "    android:padding=\"32dp\"\n",
        "    tools:context=\".MainActivity\">\n",
        "\n",
        "    <ImageView\n",
        "        android:id=\"@+id/icon_view\"\n",
        "        android:layout_width=\"96dp\"\n",
        "        android:layout_height=\"96dp\"\n",
        "        android:layout_centerHorizontal=\"true\"\n",
        "        android:src=\"@drawable/ic_target_icon\" />\n",
        "\n",
        "    <TextView\n",
        "        android:id=\"@+id/hello_text\"\n",
        "        android:layout_width=\"wrap_content\"\n",
        "        android:layout_height=\"wrap_content\"\n",
        "        android:layout_below=\"@id/icon_view\"\n",
        "        android:layout_centerHorizontal=\"true\"\n",
        "        android:layout_marginTop=\"24dp\"\n",
        "        android:text=\"@string/hello_world\"\n",
        "        android:textColor=\"@color/text_color\"\n",
        "        android:textSize=\"28sp\" />\n",
        "\n",
        "</RelativeLayout>\n",
        "```"
      ]
    },
    {
      "cell_type": "markdown",
      "metadata": {
        "id": "MTpSgjOU5NN-"
      },
      "source": [
        "#### 3. 아이콘 추가\n",
        "\n",
        "- File > New > Vector Asset을 선택하여 아이콘을 추가합니다.\n",
        "\n",
        "- Clip Art에서 원하는 아이콘(예: android)을 선택합니다.\n",
        "\n",
        "- 이름을 ic_target_icon으로 지정하고 Next, Finish를 클릭합니다. 이 파일은 app/res/drawable/에 생성됩니다.\n",
        "\n",
        "#### 4. overlayable.xml 업데이트 (중요)\n",
        "\n",
        "- 새로 추가한 드로어블 리소스들을 RRO가 덮어쓸 수 있도록 app/res/values/overlayable.xml 파일에 추가합니다."
      ]
    },
    {
      "cell_type": "markdown",
      "metadata": {
        "id": "V0GbEeWi5TFl"
      },
      "source": [
        "```xml\n",
        "<?xml version=\"1.0\" encoding=\"utf-8\"?>\n",
        "<resources>\n",
        "    <overlayable name=\"RROTargetTheme\">\n",
        "        <policy type=\"public\">\n",
        "            <item type=\"color\" name=\"background_color\" />\n",
        "            <item type=\"color\" name=\"text_color\" />\n",
        "            <item type=\"string\" name=\"hello_world\" />\n",
        "            <item type=\"drawable\" name=\"background_shape\" />\n",
        "            <item type=\"drawable\" name=\"ic_target_icon\" />\n",
        "        </policy>\n",
        "    </overlayable>\n",
        "</resources>\n",
        "```"
      ]
    },
    {
      "cell_type": "markdown",
      "metadata": {
        "id": "4FXIz4_15XyN"
      },
      "source": [
        "#### 5. 타겟 앱 다시 빌드 및 설치\n",
        "\n",
        "- Android 스튜디오에서 Build > Generate App Bundles or APKs / Generate APKs를 선택하여 RROTarget 패키지의 APK 파일을 생성합니다."
      ]
    },
    {
      "cell_type": "markdown",
      "metadata": {
        "id": "FhfGqB9a5hkD"
      },
      "source": [
        "---\n",
        "\n",
        "### 2단계: RROOverlay 패키지 수정\n",
        "이제 아이콘과 배경 드로어블을 교체할 RROOverlay 패키지를 수정합니다.\n",
        "\n",
        "#### 1. 교체할 드로어블 리소스 추가\n",
        "\n",
        "- 타겟 앱의 리소스와 반드시 동일한 파일 이름을 사용해야 합니다.\n",
        "\n",
        "- 새로운 배경 드로어블 만들기:\n",
        "\n",
        "    - app/res/drawable/ 디렉터리에 background_shape.xml 파일을 만듭니다."
      ]
    },
    {
      "cell_type": "markdown",
      "metadata": {
        "id": "tBv-X2z058dA"
      },
      "source": [
        "```xml\n",
        "<?xml version=\"1.0\" encoding=\"utf-8\"?>\n",
        "<shape xmlns:android=\"http://schemas.android.com/apk/res/android\"\n",
        "    android:shape=\"rectangle\">\n",
        "    <gradient\n",
        "        android:angle=\"90\"\n",
        "        android:endColor=\"#673AB7\"\n",
        "        android:startColor=\"#B39DDB\" />\n",
        "    <corners android:radius=\"32dp\" />\n",
        "</shape>\n",
        "```"
      ]
    },
    {
      "cell_type": "markdown",
      "metadata": {
        "id": "BVlt6txY6DSl"
      },
      "source": [
        "- 새로운 아이콘 추가:\n",
        "\n",
        "    - File > New > Vector Asset을 선택합니다.\n",
        "\n",
        "    - 다른 아이콘(예: rocket_launch)을 선택하고, 파일 이름을 ic_target_icon으로 정확하게 지정합니다.\n",
        "\n",
        "#### 4. RRO 패키지 빌드\n",
        "\n",
        "- BAndroid 스튜디오에서 Build > Generate App Bundles or APKs / Generate APKs를 선택하여 RROOverlay 패키지의 APK 파일을 생성합니다."
      ]
    },
    {
      "cell_type": "markdown",
      "metadata": {
        "id": "kYpCKt4f6bg9"
      },
      "source": [
        "### 이후 테스트 과정의 적용인 이전 방식과 동일합니다."
      ]
    },
    {
      "cell_type": "code",
      "execution_count": null,
      "metadata": {
        "id": "Wbpa7LXdqPLz"
      },
      "outputs": [],
      "source": []
    }
  ],
  "metadata": {
    "colab": {
      "provenance": []
    },
    "kernelspec": {
      "display_name": "Python 3",
      "name": "python3"
    },
    "language_info": {
      "name": "python"
    }
  },
  "nbformat": 4,
  "nbformat_minor": 0
}
