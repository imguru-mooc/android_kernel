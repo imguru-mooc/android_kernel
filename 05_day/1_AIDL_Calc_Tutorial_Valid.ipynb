{
  "cells": [
    {
      "cell_type": "markdown",
      "id": "a29e64df",
      "metadata": {
        "id": "a29e64df"
      },
      "source": [
        "# 📱 AIDL 계산기 실습 프로젝트 - Android Studio 기반\n",
        "Android Studio Narwhal 2025.1.1에서 AIDL(Android Interface Definition Language)을 이용한 간단한 계산기 서비스 실습 예제입니다."
      ]
    },
    {
      "cell_type": "markdown",
      "id": "ulDSzcUhjD-c",
      "metadata": {
        "id": "ulDSzcUhjD-c"
      },
      "source": [
        "## 📁 프로젝트 구조\n",
        "\n",
        "AidlCalculator/  \n",
        "├── app/  \n",
        "│   ├── src/  \n",
        "│   │   ├── main/  \n",
        "│   │   │   ├── aidl/  \n",
        "│   │   │   │   └── com/example/aidldemo/ICalcService.aidl  \n",
        "│   │   │   ├── java/com/example/aidldemo/  \n",
        "│   │   │   │   ├── MainActivity.java  \n",
        "│   │   │   │   └── CalcService.java  \n",
        "│   │   │   └── AndroidManifest.xml  \n",
        "│   ├── build.gradle.kts  \n",
        "├── build.gradle.kts  \n",
        "└── settings.gradle.kts  \n"
      ]
    },
    {
      "cell_type": "markdown",
      "id": "92cd5002",
      "metadata": {
        "id": "92cd5002"
      },
      "source": [
        "## 1️⃣ Android Studio에서 새 프로젝트 생성\n",
        "1. **New Project** > **No Activity** 선택\n",
        "2. 프로젝트 이름: `CalcServiceApp`\n",
        "3. 언어: `Java`\n",
        "4. Minimum SDK: `API 28` 이상\n",
        "5. Finish 클릭"
      ]
    },
    {
      "cell_type": "markdown",
      "id": "0d3c9022",
      "metadata": {
        "id": "0d3c9022"
      },
      "source": [
        "## 2️⃣ AIDL 인터페이스 생성\n"
      ]
    },
    {
      "cell_type": "markdown",
      "id": "F_jhbO3ikl7k",
      "metadata": {
        "id": "F_jhbO3ikl7k"
      },
      "source": [
        "### build.gradle.kts 파일 수정"
      ]
    },
    {
      "cell_type": "code",
      "execution_count": null,
      "id": "cq9Xc6_zkVgE",
      "metadata": {
        "id": "cq9Xc6_zkVgE"
      },
      "outputs": [],
      "source": [
        "plugins {\n",
        "    alias(libs.plugins.android.application)\n",
        "    alias(libs.plugins.kotlin.android)\n",
        "}\n",
        "\n",
        "android {\n",
        "    namespace = \"com.example.aidldemo\"\n",
        "    compileSdk = 36\n",
        "\n",
        "    defaultConfig {\n",
        "        applicationId = \"com.example.aidldemo\"\n",
        "        minSdk = 34\n",
        "        targetSdk = 36\n",
        "        versionCode = 1\n",
        "        versionName = \"1.0\"\n",
        "\n",
        "        testInstrumentationRunner = \"androidx.test.runner.AndroidJUnitRunner\"\n",
        "    }\n",
        "\n",
        "    buildTypes {\n",
        "        release {\n",
        "            isMinifyEnabled = false\n",
        "            proguardFiles(\n",
        "                getDefaultProguardFile(\"proguard-android-optimize.txt\"),\n",
        "                \"proguard-rules.pro\"\n",
        "            )\n",
        "        }\n",
        "    }\n",
        "    compileOptions {\n",
        "        sourceCompatibility = JavaVersion.VERSION_11\n",
        "        targetCompatibility = JavaVersion.VERSION_11\n",
        "    }\n",
        "    kotlinOptions {\n",
        "        jvmTarget = \"11\"\n",
        "    }\n",
        "\n",
        "    sourceSets[\"main\"].aidl.srcDirs(\"src/main/aidl\")\n",
        "\n",
        "    // ✅ 여기에 추가!\n",
        "    buildFeatures {\n",
        "        aidl = true\n",
        "    }\n",
        "}\n",
        "\n",
        "dependencies {\n",
        "\n",
        "    implementation(libs.androidx.core.ktx)\n",
        "    implementation(libs.androidx.appcompat)\n",
        "    implementation(libs.material)\n",
        "    testImplementation(libs.junit)\n",
        "    androidTestImplementation(libs.androidx.junit)\n",
        "    androidTestImplementation(libs.androidx.espresso.core)\n",
        "}"
      ]
    },
    {
      "cell_type": "markdown",
      "id": "-F31r_pikbHl",
      "metadata": {
        "id": "-F31r_pikbHl"
      },
      "source": [
        "### 📄 AIDL 파일 추가\n",
        "com/example/aidldemo 에서 마우스 우클릭 → New > AIDL > AIDL File\n",
        "\n",
        "파일 이름: ICalcService\n",
        "\n",
        "자동 생성된 ICalcService.aidl 열고 아래와 같이 수정:"
      ]
    },
    {
      "cell_type": "code",
      "execution_count": null,
      "id": "b014594e",
      "metadata": {},
      "outputs": [],
      "source": [
        "package com.example.aidldemo;\n",
        "\n",
        "interface ICalcService {\n",
        "    int add(int a, int b);\n",
        "    int subtract(int a, int b);\n",
        "    int multiply(int a, int b);\n",
        "    int divide(int a, int b);\n",
        "}"
      ]
    },
    {
      "cell_type": "markdown",
      "id": "s9OlgESvk20c",
      "metadata": {
        "id": "s9OlgESvk20c"
      },
      "source": [
        "저장 시 자동으로 ICalcService.java 생성됨 (build/generated/...에 있음)"
      ]
    },
    {
      "cell_type": "markdown",
      "id": "6ccd53bc",
      "metadata": {
        "id": "6ccd53bc"
      },
      "source": [
        "## 3️⃣ AIDL 서비스 구현 (`CalcService.java`)"
      ]
    },
    {
      "cell_type": "markdown",
      "id": "6H50SY2yk8Rn",
      "metadata": {
        "id": "6H50SY2yk8Rn"
      },
      "source": [
        "### 📄 CalcService.java 생성\n",
        "\n",
        "1. java/com.example.aidldemo 폴더에서 마우스 우클릭 → New > Java Class → 이름: CalcService\n",
        "\n",
        "2. 아래 코드 입력:"
      ]
    },
    {
      "cell_type": "code",
      "execution_count": null,
      "id": "b1ef9657",
      "metadata": {
        "id": "b1ef9657"
      },
      "outputs": [],
      "source": [
        "package com.example.aidldemo;\n",
        "\n",
        "import android.app.Service;\n",
        "import android.content.Intent;\n",
        "import android.os.IBinder;\n",
        "import android.os.RemoteException;\n",
        "import android.util.Log;\n",
        "\n",
        "public class CalcService extends Service {\n",
        "\n",
        "    private static final String TAG = \"CalcService\";\n",
        "\n",
        "    // AIDL 인터페이스 Stub 구현\n",
        "    private final ICalcService.Stub mBinder = new ICalcService.Stub() {\n",
        "        @Override\n",
        "        public int add(int a, int b) throws RemoteException {\n",
        "            Log.d(TAG, \"add(\" + a + \", \" + b + \")\");\n",
        "            return a + b;\n",
        "        }\n",
        "\n",
        "        @Override\n",
        "        public int subtract(int a, int b) throws RemoteException {\n",
        "            Log.d(TAG, \"subtract(\" + a + \", \" + b + \")\");\n",
        "            return a - b;\n",
        "        }\n",
        "\n",
        "        @Override\n",
        "        public int multiply(int a, int b) throws RemoteException {\n",
        "            Log.d(TAG, \"multiply(\" + a + \", \" + b + \")\");\n",
        "            return a * b;\n",
        "        }\n",
        "\n",
        "        @Override\n",
        "        public int divide(int a, int b) throws RemoteException {\n",
        "            Log.d(TAG, \"divide(\" + a + \", \" + b + \")\");\n",
        "            if (b == 0) {\n",
        "                throw new ArithmeticException(\"Divide by zero\");\n",
        "            }\n",
        "            return a / b;\n",
        "        }\n",
        "    };\n",
        "\n",
        "    @Override\n",
        "    public IBinder onBind(Intent intent) {\n",
        "        Log.d(TAG, \"Service bound\");\n",
        "        return mBinder;\n",
        "    }\n",
        "\n",
        "    @Override\n",
        "    public void onDestroy() {\n",
        "        Log.d(TAG, \"Service destroyed\");\n",
        "        super.onDestroy();\n",
        "    }\n",
        "}\n"
      ]
    },
    {
      "cell_type": "markdown",
      "id": "2f53507a",
      "metadata": {
        "id": "2f53507a"
      },
      "source": [
        "## 4️⃣ AndroidManifest.xml 설정"
      ]
    },
    {
      "cell_type": "markdown",
      "id": "b09eaf08",
      "metadata": {},
      "source": [
        "### 📄 AndroidManifest.xml에 서비스 등록"
      ]
    },
    {
      "cell_type": "markdown",
      "id": "DAu9bVtjmSmS",
      "metadata": {
        "id": "DAu9bVtjmSmS"
      },
      "source": [
        "``` xml\n",
        "<?xml version=\"1.0\" encoding=\"utf-8\"?>\n",
        "<manifest xmlns:android=\"http://schemas.android.com/apk/res/android\"\n",
        "    package=\"com.example.aidldemo\">\n",
        "\n",
        "    <permission\n",
        "        android:name=\"com.example.aidldemo.permission.BIND_CALC_SERVICE\"\n",
        "        android:protectionLevel=\"normal\" />\n",
        "\n",
        "    <application\n",
        "        android:label=\"AIDL Java App\">\n",
        "        <activity android:name=\".MainActivity\"\n",
        "            android:exported=\"true\">\n",
        "            <intent-filter>\n",
        "                <action android:name=\"android.intent.action.MAIN\"/>\n",
        "                <category android:name=\"android.intent.category.LAUNCHER\"/>\n",
        "            </intent-filter>\n",
        "        </activity>\n",
        "\n",
        "        <!-- 🧠 서비스 등록 -->\n",
        "        <service\n",
        "            android:name=\".CalcService\"\n",
        "            android:exported=\"true\"\n",
        "            android:permission=\"com.example.aidldemo.permission.BIND_CALC_SERVICE\">\n",
        "\n",
        "            <intent-filter>\n",
        "                <action android:name=\"com.example.aidldemo.CalcService\" />\n",
        "            </intent-filter>\n",
        "        </service>\n",
        "    </application>\n",
        "</manifest>\n",
        "```\n"
      ]
    },
    {
      "cell_type": "markdown",
      "id": "cb226c67",
      "metadata": {
        "id": "cb226c67"
      },
      "source": [
        "## 5️⃣ 클라이언트 앱 구현 (`MainActivity.java`)"
      ]
    },
    {
      "cell_type": "markdown",
      "id": "PIc1etm8lL2i",
      "metadata": {
        "id": "PIc1etm8lL2i"
      },
      "source": [
        "### 📄 MainActivity.java 수정"
      ]
    },
    {
      "cell_type": "code",
      "execution_count": null,
      "id": "23f48cbf",
      "metadata": {
        "id": "23f48cbf"
      },
      "outputs": [],
      "source": [
        "package com.example.aidldemo;\n",
        "\n",
        "import android.app.Activity;\n",
        "import android.content.ComponentName;\n",
        "import android.content.Context;\n",
        "import android.content.Intent;\n",
        "import android.content.ServiceConnection;\n",
        "import android.os.Bundle;\n",
        "import android.os.IBinder;\n",
        "import android.util.Log;\n",
        "\n",
        "public class MainActivity extends Activity {\n",
        "    ICalcService calcService;\n",
        "\n",
        "    private ServiceConnection connection = new ServiceConnection() {\n",
        "        public void onServiceConnected(ComponentName name, IBinder service) {\n",
        "            calcService = ICalcService.Stub.asInterface(service);\n",
        "            try {\n",
        "                int result = calcService.subtract(10, 5);\n",
        "                Log.d(\"CalcClient\", \"Result from service: \" + result);\n",
        "            } catch (Exception e) {\n",
        "                Log.e(\"CalcClient\", \"Error: \", e);\n",
        "            }\n",
        "        }\n",
        "        public void onServiceDisconnected(ComponentName name) {\n",
        "            calcService = null;\n",
        "        }\n",
        "    };\n",
        "\n",
        "    @Override\n",
        "    protected void onCreate(Bundle savedInstanceState) {\n",
        "        super.onCreate(savedInstanceState);\n",
        "        Intent intent = new Intent(\"com.example.aidldemo.CalcService\");\n",
        "        intent.setPackage(\"com.example.aidldemo\");\n",
        "        bindService(intent, connection, Context.BIND_AUTO_CREATE);\n",
        "    }\n",
        "}\n"
      ]
    },
    {
      "cell_type": "markdown",
      "id": "e8ef2a45",
      "metadata": {
        "id": "e8ef2a45"
      },
      "source": [
        "## 6️⃣ 실행 방법\n",
        "- Android Studio에서 ctrl + F9 로 실행\n",
        "- `Logcat`에서 결과 확인\n",
        "\n",
        "**예상 로그:**\n",
        "```bash\n",
        "CalcClient: Result from service: 15\n",
        "```"
      ]
    },
    {
      "cell_type": "code",
      "execution_count": null,
      "id": "k40uaT-ollMT",
      "metadata": {
        "id": "k40uaT-ollMT"
      },
      "outputs": [],
      "source": []
    }
  ],
  "metadata": {
    "colab": {
      "provenance": []
    },
    "kernelspec": {
      "display_name": "base",
      "language": "python",
      "name": "python3"
    },
    "language_info": {
      "codemirror_mode": {
        "name": "ipython",
        "version": 3
      },
      "file_extension": ".py",
      "mimetype": "text/x-python",
      "name": "python",
      "nbconvert_exporter": "python",
      "pygments_lexer": "ipython3",
      "version": "3.8.15"
    }
  },
  "nbformat": 4,
  "nbformat_minor": 5
}
